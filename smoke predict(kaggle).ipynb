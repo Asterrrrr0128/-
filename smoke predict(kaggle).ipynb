{
 "cells": [
  {
   "cell_type": "code",
   "execution_count": null,
   "id": "e428a60c",
   "metadata": {},
   "outputs": [],
   "source": [
    "# https://www.kaggle.com/datasets/gauravduttakiit/smoker-status-prediction-using-biosignals"
   ]
  },
  {
   "cell_type": "code",
   "execution_count": null,
   "id": "f246fe0f",
   "metadata": {},
   "outputs": [],
   "source": [
    "import pandas as pd\n",
    "import numpy as np\n",
    "import matplotlib.pyplot as plt"
   ]
  },
  {
   "cell_type": "code",
   "execution_count": null,
   "id": "1e9e135a",
   "metadata": {},
   "outputs": [],
   "source": [
    "data = pd.read_csv(\"train.csv\")\n",
    "test = pd.read_csv(\"test.csv\")\n",
    "data.info()"
   ]
  },
  {
   "cell_type": "code",
   "execution_count": null,
   "id": "b03d4c8e",
   "metadata": {},
   "outputs": [],
   "source": [
    "if(data.isna().sum().sum() == 0):\n",
    "    print(\"no missing values in the train dataset\")\n",
    "    \n",
    "else:\n",
    "    data.dropna(inplace=True)"
   ]
  },
  {
   "cell_type": "code",
   "execution_count": null,
   "id": "702dcd92",
   "metadata": {},
   "outputs": [],
   "source": [
    "data"
   ]
  },
  {
   "cell_type": "code",
   "execution_count": null,
   "id": "24dbdd72",
   "metadata": {},
   "outputs": [],
   "source": [
    "data.columns"
   ]
  },
  {
   "cell_type": "code",
   "execution_count": null,
   "id": "e281331a",
   "metadata": {},
   "outputs": [],
   "source": [
    "def summary_style(df, caption=\"\"):\n",
    "    return df.style.background_gradient(cmap=\"PuBu\").set_caption(caption).set_table_styles([{\n",
    "        'selector' : 'caption',\n",
    "        'props' : [\n",
    "            ('font-size', '18px'),\n",
    "            ('color', '#1c4978'),\n",
    "            ('font-weight', 'bold'),\n",
    "            ('font-weight', 'bold'),\n",
    "            ('text-align', 'left'),\n",
    "            ('padding', '10px')\n",
    "        ]\n",
    "    }])\n",
    "\n",
    "display(summary_style(data.sample(10), \"Sample Rows\"))\n",
    "display(summary_style(data.nunique().to_frame().rename({0 : 'Unique Value Count'}, axis=1).transpose(), \"Training Dataset Unique Value Counts\"))"
   ]
  },
  {
   "cell_type": "code",
   "execution_count": null,
   "id": "d33d4824",
   "metadata": {},
   "outputs": [],
   "source": [
    "x = np.array(data)[:, 1:23]\n",
    "x.shape"
   ]
  },
  {
   "cell_type": "code",
   "execution_count": null,
   "id": "751b24c6",
   "metadata": {},
   "outputs": [],
   "source": [
    "x[0]"
   ]
  },
  {
   "cell_type": "code",
   "execution_count": null,
   "id": "12f7ceac",
   "metadata": {},
   "outputs": [],
   "source": [
    "y = np.array(data)[:, 23]\n",
    "y"
   ]
  },
  {
   "cell_type": "code",
   "execution_count": null,
   "id": "6bf303bc",
   "metadata": {},
   "outputs": [],
   "source": [
    "from sklearn.preprocessing import MinMaxScaler\n",
    "\n",
    "# 對 x 進行 Min-Max 標準化\n",
    "scaler_x = MinMaxScaler()\n",
    "x = scaler_x.fit_transform(x)\n",
    "\n",
    "# 對 y 進行 Min-Max 標準化\n",
    "scaler_y = MinMaxScaler()\n",
    "y = scaler_y.fit_transform(y.reshape(-1, 1))\n"
   ]
  },
  {
   "cell_type": "code",
   "execution_count": null,
   "id": "44c9f705",
   "metadata": {},
   "outputs": [],
   "source": [
    "from sklearn.model_selection import train_test_split\n",
    "\n",
    "x_train_set, x_test, y_train_set, y_test= train_test_split(x, y, random_state = 1)\n",
    "x_train, x_valid, y_train, y_valid = train_test_split(x_train_set, y_train_set, random_state = 1)\n",
    "\n",
    "print(x_train.shape,y_train.shape)\n",
    "print(x[0])"
   ]
  },
  {
   "cell_type": "code",
   "execution_count": null,
   "id": "fd1bce9d",
   "metadata": {},
   "outputs": [],
   "source": [
    "#1. build model\n",
    "\n",
    "import tensorflow as tf\n",
    "from tensorflow import keras\n",
    "from tensorflow.keras.models import Sequential   #模型建構\n",
    "from tensorflow.keras.layers import Dense        #建隱藏層\n",
    "from tensorflow.keras.optimizers import SGD      #訓練model -> SGD隨機梯度下降法\n",
    "\n",
    "keras.backend.clear_session()                    #設定reset\n",
    "np.random.seed(1)\n",
    "tf.random.set_seed(1)"
   ]
  },
  {
   "cell_type": "code",
   "execution_count": null,
   "id": "66a38b76",
   "metadata": {},
   "outputs": [],
   "source": [
    "model = Sequential(\n",
    "    [\n",
    "        keras.layers.Dense(128, activation = 'relu', input_shape = x_train.shape[1:]),\n",
    "        keras.layers.Dense(50, activation = 'relu'),\n",
    "        keras.layers.Dense(100, activation = 'tanh'),\n",
    "        keras.layers.Dense(30, activation = 'relu'),\n",
    "        keras.layers.Dense(1, activation = 'sigmoid') \n",
    "    ]\n",
    ")   "
   ]
  },
  {
   "cell_type": "code",
   "execution_count": null,
   "id": "fb4821d5",
   "metadata": {},
   "outputs": [],
   "source": [
    "model.summary()"
   ]
  },
  {
   "cell_type": "code",
   "execution_count": null,
   "id": "03aed8f6",
   "metadata": {},
   "outputs": [],
   "source": [
    "model.compile(  loss = 'binary_crossentropy',\n",
    "                optimizer = 'adam',\n",
    "                metrics = ['accuracy'] #accuracy：預測正確性的百分比\n",
    "             )"
   ]
  },
  {
   "cell_type": "code",
   "execution_count": null,
   "id": "7048077b",
   "metadata": {},
   "outputs": [],
   "source": [
    "train = model.fit(x_train, y_train, epochs=20, validation_data= (x_valid, y_valid)) #epochs:進行幾次，batch_size:每一小批次有幾筆資料(預設32)\n"
   ]
  },
  {
   "cell_type": "code",
   "execution_count": null,
   "id": "9e1f2857",
   "metadata": {},
   "outputs": [],
   "source": [
    "pd.DataFrame(train.history).plot()\n",
    "plt.grid(True)\n",
    "plt.show"
   ]
  },
  {
   "cell_type": "code",
   "execution_count": null,
   "id": "5fc8cbb6",
   "metadata": {},
   "outputs": [],
   "source": [
    "model.evaluate(x_test, y_test)"
   ]
  },
  {
   "cell_type": "code",
   "execution_count": null,
   "id": "aa0cf102",
   "metadata": {},
   "outputs": [],
   "source": [
    "y_proba = model.predict(x_test)\n",
    "y_proba[:10].round(2)"
   ]
  },
  {
   "cell_type": "code",
   "execution_count": null,
   "id": "32aef2ca",
   "metadata": {},
   "outputs": [],
   "source": [
    "y_pred = np.argmax(y_proba, axis = 1)\n",
    "y_pred[:5]"
   ]
  },
  {
   "cell_type": "code",
   "execution_count": null,
   "id": "27bde42f",
   "metadata": {},
   "outputs": [],
   "source": [
    "y_test[:10]"
   ]
  },
  {
   "cell_type": "code",
   "execution_count": null,
   "id": "a22727aa",
   "metadata": {},
   "outputs": [],
   "source": [
    "#Max-norm regularization\n",
    "\n",
    "mn_model = keras.models.Sequential(\n",
    "\n",
    "    [\n",
    "        keras.layers.Dense(128, activation = 'relu', input_shape = x_train.shape[1:]),\n",
    "        keras.layers.AlphaDropout(rate = 0.2),\n",
    "        keras.layers.Dense(300, activation = 'relu', kernel_initializer = 'lecun_normal', kernel_constraint = keras.constraints.max_norm(1.)),\n",
    "        keras.layers.AlphaDropout(rate = 0.2),\n",
    "        keras.layers.Dense(100, activation = 'relu', kernel_initializer = 'lecun_normal', kernel_constraint = keras.constraints.max_norm(1.)),\n",
    "        keras.layers.AlphaDropout(rate = 0.2),\n",
    "        keras.layers.Dense(1, activation = 'sigmoid')\n",
    "\n",
    "    ]\n",
    "\n",
    ")"
   ]
  },
  {
   "cell_type": "code",
   "execution_count": null,
   "id": "71adfd29",
   "metadata": {},
   "outputs": [],
   "source": [
    "mn_model.compile(loss = 'binary_crossentropy',\n",
    "              optimizer = 'nadam',\n",
    "              metrics = ['accuracy'])"
   ]
  },
  {
   "cell_type": "code",
   "execution_count": null,
   "id": "c41005dd",
   "metadata": {},
   "outputs": [],
   "source": [
    "train = mn_model.fit(x_train, y_train, epochs = 20, validation_data = (x_valid, y_valid) )"
   ]
  },
  {
   "cell_type": "code",
   "execution_count": null,
   "id": "c3bcb385",
   "metadata": {},
   "outputs": [],
   "source": [
    "pd.DataFrame(train.history).plot()\n",
    "plt.grid(True)\n",
    "plt.show"
   ]
  },
  {
   "cell_type": "code",
   "execution_count": null,
   "id": "68a739ef",
   "metadata": {},
   "outputs": [],
   "source": [
    "mn_model.evaluate(x_test, y_test)"
   ]
  },
  {
   "cell_type": "code",
   "execution_count": null,
   "id": "ce2b6847",
   "metadata": {},
   "outputs": [],
   "source": [
    "y_proba = mn_model.predict(x_test)\n",
    "y_proba[:10].round(2)\n"
   ]
  },
  {
   "cell_type": "code",
   "execution_count": null,
   "id": "219cf00b",
   "metadata": {},
   "outputs": [],
   "source": []
  }
 ],
 "metadata": {
  "kernelspec": {
   "display_name": "Python 3",
   "language": "python",
   "name": "python3"
  },
  "language_info": {
   "codemirror_mode": {
    "name": "ipython",
    "version": 3
   },
   "file_extension": ".py",
   "mimetype": "text/x-python",
   "name": "python",
   "nbconvert_exporter": "python",
   "pygments_lexer": "ipython3",
   "version": "3.12.2"
  }
 },
 "nbformat": 4,
 "nbformat_minor": 5
}
